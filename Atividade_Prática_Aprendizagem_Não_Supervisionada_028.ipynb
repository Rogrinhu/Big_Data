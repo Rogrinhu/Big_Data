{
  "nbformat": 4,
  "nbformat_minor": 0,
  "metadata": {
    "colab": {
      "provenance": [],
      "include_colab_link": true
    },
    "kernelspec": {
      "name": "python3",
      "display_name": "Python 3"
    },
    "language_info": {
      "name": "python"
    }
  },
  "cells": [
    {
      "cell_type": "markdown",
      "metadata": {
        "id": "view-in-github",
        "colab_type": "text"
      },
      "source": [
        "<a href=\"https://colab.research.google.com/github/Rogrinhu/Big_Data/blob/main/Atividade_Pr%C3%A1tica_Aprendizagem_N%C3%A3o_Supervisionada_028.ipynb\" target=\"_parent\"><img src=\"https://colab.research.google.com/assets/colab-badge.svg\" alt=\"Open In Colab\"/></a>"
      ]
    },
    {
      "cell_type": "markdown",
      "source": [
        "### Atividade Individual: Crie uma cópia desse notebook, execute o código e responda as questões do [Formulário](https://forms.office.com/r/c2XWKLZ8WC)."
      ],
      "metadata": {
        "id": "hfnDCYaSkyk6"
      }
    },
    {
      "cell_type": "code",
      "execution_count": null,
      "metadata": {
        "id": "M1MkR4IeQFaN"
      },
      "outputs": [],
      "source": [
        "# 1. Importe as bibliotecas necessárias\n",
        "import pandas as pd\n",
        "import matplotlib.pyplot as plt\n",
        "import seaborn as sns\n",
        "from sklearn.preprocessing import StandardScaler\n",
        "from sklearn.cluster import KMeans, DBSCAN\n",
        "from sklearn.metrics import silhouette_score"
      ]
    },
    {
      "cell_type": "markdown",
      "source": [
        "Import da base de dados: Este conjunto de dados foi derivado do censo dos EUA de 1990, com dados sobre moradias na Califórnia"
      ],
      "metadata": {
        "id": "ofGk4tw8lfMj"
      }
    },
    {
      "cell_type": "code",
      "source": [
        "# 2. Carregue a base de dados\n",
        "from sklearn.datasets import fetch_california_housing\n",
        "df = fetch_california_housing(as_frame=True)\n",
        "\n",
        "X = df.data\n",
        "Y = df.target\n",
        "\n",
        "#atribuir cabeçalho a base de dados\n",
        "X = pd.DataFrame(X[['Latitude', 'Longitude']])\n",
        "Y = pd.DataFrame(Y)\n",
        "data_california = pd.concat([X, Y], axis=1, ignore_index=True)\n",
        "data_california.columns = ['Latitude', 'Longitude', 'ValorCasa']"
      ],
      "metadata": {
        "id": "lTyuN0UbldpP"
      },
      "execution_count": null,
      "outputs": []
    },
    {
      "cell_type": "code",
      "source": [
        "data_california.head()"
      ],
      "metadata": {
        "id": "87xYX9UETtBm"
      },
      "execution_count": null,
      "outputs": []
    },
    {
      "cell_type": "markdown",
      "source": [
        "## 1. Análise Exploratória e Pré-processamento"
      ],
      "metadata": {
        "id": "aIiIznaETFkP"
      }
    },
    {
      "cell_type": "code",
      "source": [
        "sns.scatterplot(\n",
        "    data=data_california,\n",
        "    x=\"Longitude\",\n",
        "    y=\"Latitude\",\n",
        "    size=\"ValorCasa\",\n",
        "    hue=\"ValorCasa\",\n",
        "    palette=\"viridis\",\n",
        "    alpha=0.5,\n",
        ")\n",
        "plt.legend(title=\"Valor das Casas\", bbox_to_anchor=(1.05, 0.95), loc=\"upper left\")\n",
        "_ = plt.title(\"Valor mediano das casas em função\\n da localização geográfica\")"
      ],
      "metadata": {
        "id": "Ng8bwvpagayL"
      },
      "execution_count": null,
      "outputs": []
    },
    {
      "cell_type": "markdown",
      "source": [
        "# 2. Métodos para identificar grupos"
      ],
      "metadata": {
        "id": "wj7EDG8l3YM3"
      }
    },
    {
      "cell_type": "markdown",
      "source": [
        "Podemos treinar os modelos e verificar os grupos formados pelo KMEANS:"
      ],
      "metadata": {
        "id": "CJvgXs_AC7fc"
      }
    },
    {
      "cell_type": "markdown",
      "source": [
        "3 GRUPOS:"
      ],
      "metadata": {
        "id": "_qQ4H2KGDEYI"
      }
    },
    {
      "cell_type": "code",
      "source": [
        "km = KMeans(n_clusters = 3, random_state = 0)\n",
        "km.fit(data_california)\n",
        "sns.scatterplot(data = data_california, x = 'Longitude', y = 'Latitude', hue = km.labels_)"
      ],
      "metadata": {
        "id": "l4pJ_uKJCH45"
      },
      "execution_count": null,
      "outputs": []
    },
    {
      "cell_type": "markdown",
      "source": [
        "4 GRUPOS:"
      ],
      "metadata": {
        "id": "yDX5dbZKDH5a"
      }
    },
    {
      "cell_type": "code",
      "source": [
        "km = KMeans(n_clusters = 4, random_state = 0)\n",
        "km.fit(data_california)\n",
        "sns.scatterplot(data = data_california, x = 'Longitude', y = 'Latitude', hue = km.labels_)"
      ],
      "metadata": {
        "id": "WQgrQASjCxg4"
      },
      "execution_count": null,
      "outputs": []
    },
    {
      "cell_type": "markdown",
      "source": [
        "# 3. Qual o melhor K?"
      ],
      "metadata": {
        "id": "D0b4TMUwDMUK"
      }
    },
    {
      "cell_type": "markdown",
      "source": [
        "Método do Cotovelo:"
      ],
      "metadata": {
        "id": "fnu4Bkbs3jKx"
      }
    },
    {
      "cell_type": "code",
      "source": [
        "distortions = []\n",
        "K = range(1,21)\n",
        "for k in K:\n",
        "    km = KMeans(n_clusters=k, random_state = 0)\n",
        "    km.fit(data_california)\n",
        "    distortions.append(km.inertia_)"
      ],
      "metadata": {
        "id": "q1zLNOqZWE3C"
      },
      "execution_count": null,
      "outputs": []
    },
    {
      "cell_type": "code",
      "source": [
        "plt.figure(figsize=(6,4))\n",
        "plt.plot(K, distortions, marker='o')\n",
        "plt.xlabel('k')\n",
        "plt.ylabel('Distorção/Erro')\n",
        "plt.title('Método do cotovelo mostrando o k ótimo')\n",
        "plt.show()"
      ],
      "metadata": {
        "id": "dETFlP66WLnZ"
      },
      "execution_count": null,
      "outputs": []
    },
    {
      "cell_type": "markdown",
      "source": [
        "Método de Silhouette:"
      ],
      "metadata": {
        "id": "o-vuwXXH8G2w"
      }
    },
    {
      "cell_type": "code",
      "source": [
        "km = KMeans(n_clusters=3,random_state = 0)\n",
        "km.fit_predict(data_california)\n",
        "\n",
        "score = silhouette_score(data_california, km.labels_, metric='euclidean')\n",
        "\n",
        "print('Silhouetter Score: %.3f' % score)"
      ],
      "metadata": {
        "id": "SwgYn4H8fz7_"
      },
      "execution_count": null,
      "outputs": []
    },
    {
      "cell_type": "code",
      "source": [
        "from yellowbrick.cluster import SilhouetteVisualizer\n",
        "\n",
        "fig, ax = plt.subplots(2, 2, figsize=(10,8))\n",
        "for i in [2, 3, 4, 5]:\n",
        "    #gerar kmeans para cada número de cluster\n",
        "    km = KMeans(n_clusters=i, init='k-means++', n_init=10, max_iter=100, random_state=42)\n",
        "    q, mod = divmod(i, 2)\n",
        "\n",
        "    visualizer = SilhouetteVisualizer(km, colors='yellowbrick', ax=ax[q-1][mod])\n",
        "    visualizer.fit(data_california)\n"
      ],
      "metadata": {
        "id": "pp2ykoz2f3GY"
      },
      "execution_count": null,
      "outputs": []
    },
    {
      "cell_type": "markdown",
      "source": [
        "Após suas análises, escolha o melhor K (que gera melhor partição) e substitua no código abaixo e gere os gráficos 1 e 2:"
      ],
      "metadata": {
        "id": "n1UHFMQIFqr7"
      }
    },
    {
      "cell_type": "markdown",
      "source": [
        "Gráfico 1:"
      ],
      "metadata": {
        "id": "9NO4N4o5GCEr"
      }
    },
    {
      "cell_type": "code",
      "source": [
        "sns.scatterplot(data = data_california, x = 'Longitude', y = 'Latitude', hue = km.labels_)"
      ],
      "metadata": {
        "id": "MDCr4v24D3NW"
      },
      "execution_count": null,
      "outputs": []
    },
    {
      "cell_type": "markdown",
      "source": [
        "Gráfico 2:"
      ],
      "metadata": {
        "id": "Bg6-pSlbF9Wy"
      }
    },
    {
      "cell_type": "code",
      "source": [
        "sns.boxplot(x = km.labels_, y = data_california['ValorCasa'])"
      ],
      "metadata": {
        "id": "hDaJNw_DEQ04"
      },
      "execution_count": null,
      "outputs": []
    }
  ]
}